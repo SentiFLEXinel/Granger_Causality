{
  "nbformat": 4,
  "nbformat_minor": 0,
  "metadata": {
    "colab": {
      "provenance": [],
      "toc_visible": true,
      "authorship_tag": "ABX9TyMwAMXMz9ubFi/uqfa5hHPH",
      "include_colab_link": true
    },
    "kernelspec": {
      "name": "python3",
      "display_name": "Python 3"
    },
    "language_info": {
      "name": "python"
    }
  },
  "cells": [
    {
      "cell_type": "markdown",
      "metadata": {
        "id": "view-in-github",
        "colab_type": "text"
      },
      "source": [
        "<a href=\"https://colab.research.google.com/github/daviddkovacs/Granger_Causality_global/blob/main/Granger_causality.ipynb\" target=\"_parent\"><img src=\"https://colab.research.google.com/assets/colab-badge.svg\" alt=\"Open In Colab\"/></a>"
      ]
    },
    {
      "cell_type": "markdown",
      "source": [
        "#Installing libraries and accessing GEE"
      ],
      "metadata": {
        "id": "uV3bFxpBf5N1"
      }
    },
    {
      "cell_type": "markdown",
      "source": [
        "Please, before setting up the GEE REST API framework, follow the instructions on: [https://github.com/KMarkert/restee](https://)"
      ],
      "metadata": {
        "id": "0S3FZfhhg_C4"
      }
    },
    {
      "cell_type": "code",
      "source": [
        "# Please provide your Google Project ID\n",
        "PROJECTID = ''"
      ],
      "metadata": {
        "id": "4SsH5VIEhYS8"
      },
      "execution_count": null,
      "outputs": []
    },
    {
      "cell_type": "code",
      "source": [
        "import ee\n",
        "from google.colab import drive\n",
        "import os\n",
        "import restee as ree\n",
        "from osgeo import osr\n",
        "from osgeo import gdal\n",
        "from google.auth.transport.requests import AuthorizedSession\n",
        "from statsmodels.tsa.stattools import grangercausalitytests\n",
        "import ee\n",
        "import numpy as np\n",
        "import time\n",
        "import matplotlib.pyplot as plt\n",
        "from ipywidgets import Text\n",
        "import pandas as pd\n",
        "import datetime\n",
        "import cv2\n",
        "from multiprocessing import Pool, Process\n",
        "import itertools\n",
        "import time\n",
        "import dask\n",
        "import random\n",
        "import dask.dataframe as dd\n",
        "from dask.distributed import Client, progress\n",
        "import numpy.ma as ma\n",
        "import xarray as xr\n",
        "\n",
        "drive.mount('/content/drive')\n",
        "!gcloud auth login --project {PROJECTID}\n",
        "ee.Authenticate()\n",
        "!pip install restee\n",
        "!pip install xesmf\n",
        "!pip install wxee\n",
        "!pip install rasterio\n",
        "\n",
        "session = AuthorizedSession(ee.data.get_persistent_credentials())\n",
        "\n",
        "class EESessionContainer(ree.EESession):\n",
        "    def __init__(self, project, session):\n",
        "        self._PROJECT = project\n",
        "        self._SESSION = session\n",
        "ee_session = EESessionContainer(PROJECTID, session)\n",
        "ee.Initialize(ee_session.session.credentials, project=PROJECTID)"
      ],
      "metadata": {
        "id": "StydY-XegJs3"
      },
      "execution_count": null,
      "outputs": []
    },
    {
      "cell_type": "markdown",
      "source": [
        "Download and insert the REST API json key and connect the Colab notebook to GEE"
      ],
      "metadata": {
        "id": "Ns2JfD0Vg1BQ"
      }
    },
    {
      "cell_type": "code",
      "source": [
        "session = ree.EESession(PROJECTID,\"insert REST API json key here\")\n",
        "np.set_printoptions(suppress=True)\n",
        "ee.Initialize()"
      ],
      "metadata": {
        "id": "POm1pGnFgziD"
      },
      "execution_count": null,
      "outputs": []
    },
    {
      "cell_type": "markdown",
      "source": [],
      "metadata": {
        "id": "PcgWEFmwh-WX"
      }
    },
    {
      "cell_type": "markdown",
      "source": [
        "# Setting up spatio-temporal data for ELV and VP"
      ],
      "metadata": {
        "id": "gGMLltmYiUfb"
      }
    },
    {
      "cell_type": "markdown",
      "source": [
        "In the next cell, you can select what environmental variable you want to compare\n",
        "Use any ERA 5 Land variable from: [https://developers.google.com/earth-engine/datasets/catalog/ECMWF_ERA5_LAND_DAILY_RAW](https://)\n",
        "\n",
        "\n",
        "You can further select the vegetation product of causality analysis in the next cell, line 73"
      ],
      "metadata": {
        "id": "EIw6W40jjpYF"
      }
    },
    {
      "cell_type": "code",
      "source": [
        "ERA5Tvar = \"ERA 5 Land variable\""
      ],
      "metadata": {
        "id": "lBkmVHy9jdRQ"
      },
      "execution_count": 1,
      "outputs": []
    },
    {
      "cell_type": "code",
      "source": [
        "def add_datumSIF(x):\n",
        "    x = x.set({'system:time_start': ee.Date(x.getString(\"system:index\").slice(0,4)\n",
        "    .cat(\"-\")\n",
        "    .cat(x.getString(\"system:index\").slice(5,7))\n",
        "    .cat(\"-\")\n",
        "    .cat(x.getString(\"system:index\").slice(8,10))).millis()})\n",
        "    return x\n",
        "\n",
        "\n",
        "def add_datumSIF2019(x):\n",
        "    datum = x.getString(\"system:index\").slice(13,25)\n",
        "    return x.set({'system:time_start': ee.Date(datum)})\n",
        "\n",
        "waterMask = ee.Image('CIESIN/GPWv411/GPW_Water_Mask').select('water_mask').eq(3);\n",
        "bareMask = ee.Image(\"COPERNICUS/Landcover/100m/Proba-V-C3/Global/2019\").select('bare-coverfraction').lte(90).eq(0);\n",
        "\n",
        "\n",
        "def masking(x):\n",
        "    return x.mask(waterMask)\n",
        "\n",
        "SIF = ee.ImageCollection(\"projects/ee-dkvcsdvd/assets/SIF/TROPOSIF1822\").map(add_datumSIF)\n",
        "\n",
        "\n",
        "startDateStr = '2020-01-01'\n",
        "endDateStr = '2022-01-01'\n",
        "\n",
        "# MODISvar = \"Lai\"\n",
        "startDateGEE = ee.Date(startDateStr)\n",
        "endDate = datetime.datetime.strptime(endDateStr, '%Y-%m-%d').date()\n",
        "timeWindows = 10\n",
        "startDate = datetime.datetime.strptime(startDateStr, \"%Y-%m-%d\").date()\n",
        "daysIterations = abs((startDate - endDate)//timeWindows).days\n",
        "\n",
        "coordinates = [[[-76.99349151087304, 67.1700297446974],\n",
        "          [-76.99349151087304, -43.89775352375589],\n",
        "          [104.412758489127, -43.89775352375589],\n",
        "          [104.412758489127, 67.1700297446974]]]\n",
        "fc = ee.FeatureCollection(\"projects/ee-dkvcsdvd/assets/Output/World_shapefile\")\n",
        "area = fc.geometry()\n",
        "\n",
        "domain = ree.Domain.from_ee_geometry(session,area,resolution=0.5)\n",
        "\n",
        "stack = np.array([])\n",
        "stack2 = np.array([])\n",
        "\n",
        "for i in range(0,daysIterations):\n",
        "    try:\n",
        "        fecha_inicio = startDateGEE.advance(ee.Number(i).multiply(timeWindows),'day')\n",
        "        fecha_fin = fecha_inicio.advance(timeWindows, 'day')\n",
        "        ERA5T = ee.ImageCollection(\"ECMWF/ERA5_LAND/DAILY_RAW\").filterDate(fecha_inicio,fecha_fin).select(ERA5Tvar)\n",
        "        LST = ee.ImageCollection('MODIS/061/MOD11A1').filterDate(fecha_inicio,fecha_fin).select(\"LST_Day_1km\")\n",
        "        SM = ee.ImageCollection(\"NASA/SMAP/SPL3SMP_E/005\").filterDate(fecha_inicio,fecha_fin).select(\"soil_moisture_am\")\n",
        "\n",
        "\n",
        "        def add_datumSIF(x):\n",
        "            x = x.set({'system:time_start': ee.Date(x.getString(\"system:index\").slice(0,4)\n",
        "            .cat(\"-\")\n",
        "            .cat(x.getString(\"system:index\").slice(5,7))\n",
        "            .cat(\"-\")\n",
        "            .cat(x.getString(\"system:index\").slice(8,10))).millis()})\n",
        "            return x\n",
        "\n",
        "        def add_datumCGLS(x):\n",
        "            x = x.set({'system:time_start': ee.Date(x.getString(\"system:index\").slice(0,4)\n",
        "            .cat(\"-\")\n",
        "            .cat(x.getString(\"system:index\").slice(4,6))\n",
        "            .cat(\"-\")\n",
        "            .cat(x.getString(\"system:index\").slice(6,9))).millis()})\n",
        "            return x\n",
        "\n",
        "\n",
        "# The following line selects the vegetation product you want to analyse, right now FVC is used\n",
        "        cgls_biopar = ee.ImageCollection(\"projects/ee-dkvcsdvd/assets/CGLS/CGLS_FVC_20_22_300m\").map(add_datumCGLS)\n",
        "        cgls_biopar = cgls_biopar.filterDate(fecha_inicio,fecha_fin).select(\"b1\")\n",
        "\n",
        "# For TROPOSIF dataa\n",
        "        SIF = ee.ImageCollection(\"projects/ee-dkvcsdvd/assets/SIF/TROPOSIF1822\").map(add_datumSIF)\n",
        "        SIF = SIF.filterDate(fecha_inicio,fecha_fin).select(\"b1\")\n",
        "\n",
        "        fecha_str = datetime.datetime.utcfromtimestamp(fecha_inicio.getInfo()['value']/1000.0).strftime('%Y%m%d')\n",
        "        print(fecha_str)\n",
        "\n",
        "\n",
        "        waterMask_array = ree.img_to_xarray(session,domain, waterMask,no_data_value=np.nan)\n",
        "        waterMask_array = waterMask_array.to_array().values[0, :, :]\n",
        "        bareMask_array = ree.img_to_xarray(session,domain, bareMask,no_data_value=np.nan)\n",
        "        bareMask_array = bareMask_array.to_array().values[0, :, :]\n",
        "\n",
        "\n",
        "        result = cgls_biopar.mean()\n",
        "\n",
        "        gee_array = ree.img_to_xarray(session,domain, result,no_data_value=np.nan)\n",
        "        gee_array = gee_array.to_array().values[0, :, :]\n",
        "\n",
        "\n",
        "        gee_array = np.ma.masked_array(gee_array,waterMask_array)\n",
        "\n",
        "        gee_array = np.ma.masked_array(gee_array,bareMask_array)\n",
        "\n",
        "        print(\"gee_array\")\n",
        "        plt.figure(figsize = (25,15))\n",
        "        plt.imshow(gee_array)\n",
        "        plt.colorbar()\n",
        "        plt.show()\n",
        "\n",
        "        result2 = ERA5T.mean().divide(86400).setDefaultProjection(ERA5T.first().projection())\n",
        "\n",
        "        gee_array2 = ree.img_to_xarray(session,domain, result2,no_data_value=np.nan)\n",
        "        gee_array2 = gee_array2.to_array().values[0, :, :]\n",
        "\n",
        "        gee_array2 = np.ma.masked_array(gee_array2,waterMask_array)\n",
        "        gee_array2 = np.ma.masked_array(gee_array2,bareMask_array)\n",
        "\n",
        "        print(\"gee_array2\")\n",
        "        plt.figure(figsize = (25,15))\n",
        "        plt.imshow(gee_array2)\n",
        "        plt.colorbar()\n",
        "        plt.show()\n",
        "        stack2 = np.dstack([stack2, gee_array2]) if stack2.size else gee_array2\n",
        "\n",
        "        stack = np.dstack([stack, gee_array]) if stack.size else gee_array\n",
        "    except:\n",
        "        pass"
      ],
      "metadata": {
        "id": "dkfvJdNAiZ-D"
      },
      "execution_count": null,
      "outputs": []
    },
    {
      "cell_type": "markdown",
      "source": [
        "#Granger Causality algorithm"
      ],
      "metadata": {
        "id": "ATpSDkFQlFBi"
      }
    },
    {
      "cell_type": "markdown",
      "source": [
        "In the next cell, select the lag you want the VAR model to use.\n",
        "Additionall, set Ftest_Pval to 0 to obtain F statistic maps and 1 to obtain P value maps"
      ],
      "metadata": {
        "id": "-mqNu_IzlPyR"
      }
    },
    {
      "cell_type": "code",
      "source": [
        "lag = 10\n",
        "Ftest_Pval = # Use 0 for F test and 1 for P val"
      ],
      "metadata": {
        "id": "L1hGp1QDlNvS"
      },
      "execution_count": null,
      "outputs": []
    },
    {
      "cell_type": "code",
      "source": [
        "xdim, ydim, num_images = stack.shape\n",
        "granger_array = np.zeros(shape=(xdim, ydim))\n",
        "output_array = np.empty((xdim, ydim))\n",
        "\n",
        "for i in range(xdim):\n",
        "    for j in range(ydim):\n",
        "        try:\n",
        "            ts_1 = []\n",
        "            ts_2 = []\n",
        "            for im_n in range(num_images):\n",
        "                ts_1.append(stack[i][j][im_n])\n",
        "                ts_2.append(stack2[i][j][im_n])\n",
        "            df = pd.DataFrame(list(zip(ts_1, ts_2)), columns=['ts_1', 'ts_2'])\n",
        "            df = df.diff().iloc[1:]\n",
        "            lags = lag\n",
        "            maxlag = lags\n",
        "            test = 'params_ftest'\n",
        "            ForP = Ftest_Pval # 0:Ftest 1:p-value\n",
        "            gc_res = grangercausalitytests(df, lags,verbose = False)[lags][0][test][ForP]\n",
        "            output_array[i, j] = gc_res\n",
        "        except:\n",
        "            pass"
      ],
      "metadata": {
        "id": "FVOeKVRfk_ic"
      },
      "execution_count": null,
      "outputs": []
    },
    {
      "cell_type": "markdown",
      "source": [
        "#Visualizing the Granger Causality map"
      ],
      "metadata": {
        "id": "A6CnJyXIlyf1"
      }
    },
    {
      "cell_type": "code",
      "source": [
        "world = output_array\n",
        "waterMask_array = ree.img_to_xarray(session,domain, waterMask,no_data_value=np.nan)\n",
        "waterMask_array = waterMask_array.to_array().values[0, :, :]\n",
        "bareMask_array = ree.img_to_xarray(session,domain, bareMask,no_data_value=np.nan)\n",
        "bareMask_array = bareMask_array.to_array().values[0, :, :]\n",
        "output_array = np.ma.masked_array(output_array,waterMask_array)\n",
        "output_array = np.ma.masked_array(output_array,bareMask_array)\n",
        "\n",
        "plt.figure(figsize = (25,10))\n",
        "plt.imshow(output_array,vmin=0, vmax=1)\n",
        "plt.colorbar()\n",
        "plt.show()"
      ],
      "metadata": {
        "id": "RJm8rcFMlxAF"
      },
      "execution_count": null,
      "outputs": []
    }
  ]
}